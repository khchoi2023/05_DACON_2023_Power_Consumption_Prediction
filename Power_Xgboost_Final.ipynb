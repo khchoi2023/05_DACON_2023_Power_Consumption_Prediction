{
 "cells": [
  {
   "cell_type": "code",
   "execution_count": null,
   "id": "6f3312a3",
   "metadata": {},
   "outputs": [],
   "source": [
    "import pandas as pd\n",
    "import numpy as np\n",
    "import random\n",
    "import os\n",
    "\n",
    "import xgboost as xgb\n",
    "from sklearn.metrics import r2_score\n",
    "\n",
    "from sklearn.preprocessing import MinMaxScaler\n",
    "from sklearn.preprocessing import LabelEncoder\n",
    "\n",
    "import torch\n",
    "import torch.nn as nn\n",
    "from torch.utils.data import Dataset, DataLoader \n",
    "\n",
    "from tqdm.auto import tqdm\n",
    "\n",
    "\n",
    "#############################################################################################################33\n",
    "from sklearn.ensemble import RandomForestRegressor         # 회귀 (Regression)\n",
    "from sklearn.linear_model import LinearRegression          # 선형 회귀 (Linear Regression)\n",
    "from sklearn.svm import SVR                                # 서포트 벡터 머신 (Support Vector Machine, SVM)\n",
    "from sklearn.neighbors import KNeighborsRegressor          # k-최근접 이웃 (k-Nearest Neighbors, k-NN)\n",
    "from sklearn.neural_network import MLPRegressor            # 신경망 (Neural Networks)\n",
    "from sklearn.tree import DecisionTreeRegressor             # 결정 트리 (Decision Tree)\n",
    "from sklearn.ensemble import GradientBoostingRegressor     # 그래디언트 부스팅 (Gradient Boosting)\n",
    "\n",
    "import warnings\n",
    "warnings.filterwarnings(action='ignore')\n",
    "#############################################################################################################33\n",
    "\n",
    "\n",
    "def seed_everything(seed):\n",
    "    random.seed(seed)\n",
    "    os.environ['PYTHONHASHSEED'] = str(seed)\n",
    "    np.random.seed(seed)\n",
    "    torch.manual_seed(seed)\n",
    "    torch.cuda.manual_seed(seed)\n",
    "    torch.backends.cudnn.deterministic = True\n",
    "    torch.backends.cudnn.benchmark = True\n",
    "\n",
    "seed_everything(42)  # Seed 고정\n",
    "\n",
    "\n",
    "# Define SMAPE loss function\n",
    "def SMAPE(true, pred):\n",
    "    return np.mean((np.abs(true-pred))/(np.abs(true) + np.abs(pred))) * 100\n",
    "\n",
    "\n",
    "# 이슬점 계산 함수\n",
    "def calculate_dew_point(temp_c, humidity):\n",
    "    a = 17.27\n",
    "    b = 237.7\n",
    "    alpha = ((a * temp_c) / (b + temp_c)) + np.log(humidity / 100.0)\n",
    "    dew_point = (b * alpha) / (a - alpha)\n",
    "    return dew_point\n",
    "\n",
    "\n",
    "def CDH(xs):\n",
    "    ys = []\n",
    "    for i in range(len(xs)):\n",
    "        if i < 11:\n",
    "            ys.append(np.sum(xs[:(i+1)] - 26))\n",
    "        else:\n",
    "            ys.append(np.sum(xs[(i-11):(i+1)] - 26))\n",
    "    return np.array(ys)\n",
    "\n",
    "\n",
    "pd.set_option('display.max_columns', None)\n",
    "pd.set_option('display.max_rows', None)"
   ]
  },
  {
   "cell_type": "code",
   "execution_count": null,
   "id": "d36a533b",
   "metadata": {},
   "outputs": [],
   "source": [
    "train_df = pd.read_csv('./train.csv')\n",
    "building_info = pd.read_csv('./building_info.csv')\n",
    "test_df = pd.read_csv('./test.csv')\n",
    "sample_submission = pd.read_csv('./sample_submission.csv')"
   ]
  },
  {
   "cell_type": "markdown",
   "id": "18fa9113",
   "metadata": {},
   "source": [
    "## Building Data"
   ]
  },
  {
   "cell_type": "code",
   "execution_count": null,
   "id": "37ac54aa",
   "metadata": {},
   "outputs": [],
   "source": [
    "building_info = building_info.replace('-',0) # ''-'(문자)라고 명시된 값을 0(숫자)으로 바꾸기\n",
    "\n",
    "\n",
    "# '건물유형' 라벨인코딩해서 '건물유형' 칼럼에 덮어쓰기\n",
    "label_encoder = LabelEncoder()\n",
    "building_info['건물유형'] = label_encoder.fit_transform(building_info['건물유형'])\n",
    "\n",
    "\n",
    "# \"태양광용량(kW)\", \"ESS저장용량(kWh)\", \"PCS용량(kW)\" 컬럼을 float으로 변환\n",
    "building_info[\"태양광용량(kW)\"] = pd.to_numeric(building_info[\"태양광용량(kW)\"], errors=\"coerce\")\n",
    "building_info[\"ESS저장용량(kWh)\"] = pd.to_numeric(building_info[\"ESS저장용량(kWh)\"], errors=\"coerce\")\n",
    "building_info[\"PCS용량(kW)\"] = pd.to_numeric(building_info[\"PCS용량(kW)\"], errors=\"coerce\")\n",
    "\n",
    "building_info.head(10)"
   ]
  },
  {
   "cell_type": "markdown",
   "id": "451af339",
   "metadata": {},
   "source": [
    "## Train Data"
   ]
  },
  {
   "cell_type": "code",
   "execution_count": null,
   "id": "99e409b8",
   "metadata": {},
   "outputs": [],
   "source": [
    "#시계열 특성을 학습에 반영하기 위해 일시를 월, 일, 시간으로 나눔\n",
    "train_df['year'] = train_df['일시'].apply(lambda x : int(x[0:4]))\n",
    "train_df['month'] = train_df['일시'].apply(lambda x : int(x[4:6]))\n",
    "train_df['day'] = train_df['일시'].apply(lambda x : int(x[6:8]))\n",
    "train_df['time'] = train_df['일시'].apply(lambda x : int(x[9:11]))\n",
    "\n",
    "# 요일 추가\n",
    "train_df['date'] = pd.to_datetime(train_df[['year', 'month', 'day']])\n",
    "train_df['요일'] = train_df['date'].dt.dayofweek\n",
    "train_df = train_df.drop(columns=['date','year'])                                 # year 드롭\n",
    "\n",
    "# 공휴일 추가\n",
    "train_df['공휴일'] = train_df['요일'].apply(lambda x: 1 if x in [5, 6] else 0)\n",
    "train_df.loc[(train_df['month'] == 6) & (train_df['day'] == 1), '공휴일'] = 1     # 2022 지방선거\n",
    "train_df.loc[(train_df['month'] == 6) & (train_df['day'] == 6), '공휴일'] = 1     # 현충일\n",
    "train_df.loc[(train_df['month'] == 8) & (train_df['day'] == 15), '공휴일'] = 1    # 광복절\n",
    "\n",
    "# 근무시간 여부 추가\n",
    "train_df.loc[(train_df['time'] >= 8) & (train_df['time'] <= 20), '근무시간'] = 1\n",
    "train_df.loc[(train_df['time'] < 8) | (train_df['time'] > 20), '근무시간'] = 0\n",
    "\n",
    "# 불쾌지수 칼럼 추가\n",
    "train_df['불쾌지수'] = (1.8*train_df['기온(C)']) - (0.55*(1-train_df['습도(%)']/100)*(1.8*train_df['기온(C)']-26)) + 32\n",
    "\n",
    "# 이슬점 추가\n",
    "# train_df['이슬점'] = train_df.apply(lambda row: calculate_dew_point(row['기온(C)'], row['습도(%)']), axis=1)\n",
    "\n",
    "# 냉방도일 추가\n",
    "# cdhs = np.array([])\n",
    "# for num in range(1,101,1):\n",
    "#     temp = train_df[train_df['건물번호'] == num]\n",
    "#     cdh = CDH(temp['기온(C)'].values)\n",
    "#     cdhs = np.concatenate([cdhs, cdh])\n",
    "# train_df['냉방도일'] = cdhs\n",
    "\n",
    "# sin, cos tiem 변수 추가\n",
    "train_df['sin_time'] = np.sin(2*np.pi*train_df.time/24)\n",
    "train_df['cos_time'] = np.cos(2*np.pi*train_df.time/24)\n",
    "\n",
    "\n",
    "####################################################################################################\n",
    "\n",
    "\n",
    "test_df['year'] = test_df['일시'].apply(lambda x : int(x[0:4]))\n",
    "test_df['month'] = test_df['일시'].apply(lambda x : int(x[4:6]))\n",
    "test_df['day'] = test_df['일시'].apply(lambda x : int(x[6:8])) \n",
    "test_df['time'] = test_df['일시'].apply(lambda x : int(x[9:11]))\n",
    "\n",
    "# 요일 추가\n",
    "test_df['date'] = pd.to_datetime(test_df[['year', 'month', 'day']])\n",
    "test_df['요일'] = test_df['date'].dt.dayofweek\n",
    "test_df = test_df.drop(columns=['date','year'])                                 # year 드롭\n",
    "\n",
    "# 공휴일 추가\n",
    "test_df['공휴일'] = test_df['요일'].apply(lambda x: 1 if x in [5, 6] else 0)\n",
    "test_df.loc[(test_df['month'] == 6) & (test_df['day'] == 1), '공휴일'] = 1     # 2022 지방선거\n",
    "test_df.loc[(test_df['month'] == 6) & (test_df['day'] == 6), '공휴일'] = 1     # 현충일\n",
    "test_df.loc[(test_df['month'] == 8) & (test_df['day'] == 15), '공휴일'] = 1    # 광복절\n",
    "\n",
    "# 근무시간 여부 추가\n",
    "test_df.loc[(train_df['time'] >= 8) & (test_df['time'] <= 20), '근무시간'] = 1\n",
    "test_df.loc[(train_df['time'] < 8) | (test_df['time'] > 20), '근무시간'] = 0\n",
    "\n",
    "# 불쾌지수 칼럼 추가\n",
    "test_df['불쾌지수'] = (1.8*test_df['기온(C)']) - (0.55*(1-test_df['습도(%)']/100)*(1.8*test_df['기온(C)']-26)) + 32\n",
    "\n",
    "# 이슬점 추가\n",
    "# test_df['이슬점'] = test_df.apply(lambda row: calculate_dew_point(row['기온(C)'], row['습도(%)']), axis=1)\n",
    "\n",
    "\n",
    "# 냉방도일 추가\n",
    "# cdhs = np.array([])\n",
    "# for num in range(1,101,1):\n",
    "#     temp = test_df[test_df['건물번호'] == num]\n",
    "#     cdh = CDH(temp['기온(C)'].values)\n",
    "#     cdhs = np.concatenate([cdhs, cdh])\n",
    "# test_df['냉방도일'] = cdhs\n",
    "\n",
    "# sin, cos tiem 변수 추가\n",
    "test_df['sin_time'] = np.sin(2*np.pi*test_df.time/24)\n",
    "test_df['cos_time'] = np.cos(2*np.pi*test_df.time/24)\n",
    "\n",
    "\n",
    "####################################################################################################\n",
    "\n",
    "\n",
    "# 풍속, 습도 결측치 처리\n",
    "# 평균으로 채우고 반올림\n",
    "# train_df['풍속(m/s)'].fillna(round(train_df['풍속(m/s)'].mean(),2), inplace=True)\n",
    "# train_df['습도(%)'].fillna(round(train_df['습도(%)'].mean(),2), inplace=True)\n",
    "\n",
    "\n",
    "# 직전값으로 채우기\n",
    "train_df['풍속(m/s)'].fillna(method='ffill', inplace=True)\n",
    "train_df['습도(%)'].fillna(method='ffill', inplace=True)\n",
    "\n",
    "\n",
    "# 보간법으로 채우기\n",
    "# train_df['풍속(m/s)'].interpolate() # Nan값을 앞뒤의 값의 동일 간격으로 채우기\n",
    "# train_df['습도(%)'].interpolate() # Nan값을 앞뒤의 값의 동일 간격으로 채우기\n",
    "\n",
    "\n",
    "# 나머지 결측값을 0으로 채우기\n",
    "train_df = train_df.fillna(0)\n",
    "\n",
    "train_df.head(10)"
   ]
  },
  {
   "cell_type": "markdown",
   "id": "207b2769",
   "metadata": {},
   "source": [
    "## Test Data"
   ]
  },
  {
   "cell_type": "code",
   "execution_count": null,
   "id": "62994b8c",
   "metadata": {},
   "outputs": [],
   "source": [
    "train_df = pd.merge(train_df, building_info, on='건물번호', how='left')\n",
    "test_df = pd.merge(test_df, building_info, on='건물번호', how='left')"
   ]
  },
  {
   "cell_type": "code",
   "execution_count": null,
   "id": "5a305fff",
   "metadata": {},
   "outputs": [],
   "source": [
    "# 칼럼 지우기\n",
    "train_x = train_df.drop(columns=['num_date_time','일시','일조(hr)','일사(MJ/m2)','전력소비량(kWh)'])\n",
    "train_x.head()"
   ]
  },
  {
   "cell_type": "code",
   "execution_count": null,
   "id": "b3145901",
   "metadata": {},
   "outputs": [],
   "source": [
    "# # '건물번호', '일시', '전력소비량(kWh)' 열을 제외한 열 선택\n",
    "# feature_columns = train_x.columns.difference(['건물번호', '일시', '전력소비량(kWh)'])\n",
    "\n",
    "# # Min-Max 스케일링을 위한 Scaler 생성\n",
    "# scaler = MinMaxScaler()\n",
    "\n",
    "# # 선택한 열들을 정규화\n",
    "# train_x[feature_columns] = scaler.fit_transform(train_x[feature_columns])\n",
    "\n",
    "# train_x.head()"
   ]
  },
  {
   "cell_type": "code",
   "execution_count": null,
   "id": "47f3aca1",
   "metadata": {},
   "outputs": [],
   "source": [
    "train_y = train_df['전력소비량(kWh)']\n",
    "train_y.head(10)  # 정답지"
   ]
  },
  {
   "cell_type": "markdown",
   "id": "fad54f04",
   "metadata": {},
   "source": [
    "## Test Data Pre-Processing"
   ]
  },
  {
   "cell_type": "code",
   "execution_count": null,
   "id": "2f8790e9",
   "metadata": {},
   "outputs": [],
   "source": [
    "# XGBoost 모델 초기화\n",
    "# model = xgb.XGBRegressor(n_estimators=800, max_depth=800, learning_rate=0.1, min_child_weight=1)\n",
    "model = xgb.XGBRegressor(n_estimators=2000, max_depth=800, learning_rate=0.1, min_child_weight=1)\n",
    "\n",
    "\n",
    "# model = xgb.XGBRegressor(base_score=0.5, booster='gbtree', colsample_bylevel=1,\n",
    "#                          colsample_bynode=1, colsample_bytree=0.8, eta=0.01, gamma=0,\n",
    "#                          gpu_id=-1, importance_type='gain', interaction_constraints='',\n",
    "#                          learning_rate=0.00999999978, max_delta_step=0, max_depth=5,\n",
    "#                          min_child_weight=6, monotone_constraints='()',\n",
    "#                          n_estimators=10000, n_jobs=0, num_parallel_tree=1, random_state=0,\n",
    "#                          reg_alpha=0, reg_lambda=1, scale_pos_weight=1, seed=0,\n",
    "#                          subsample=0.9, tree_method='exact', validate_parameters=1,\n",
    "#                          verbosity=None)\n",
    "\n",
    "# model= xgb.XGBRegressor(n_estimators =10000, eta = 0.01, min_child_weight = 6, \n",
    "#                        max_depth = 5, colsample_bytree = 0.8, \n",
    "#                        subsample = 0.9, seed=0) # ,  gpu_id = 1, tree_method = 'gpu_hist', predictor= 'gpu_predictor')\n",
    "\n",
    "# 모델 훈련\n",
    "model.fit(train_x, train_y)"
   ]
  },
  {
   "cell_type": "code",
   "execution_count": null,
   "id": "8ba85249",
   "metadata": {},
   "outputs": [],
   "source": [
    "import matplotlib.pyplot as plt\n",
    "\n",
    "# 훈련된 모델로부터 예측값 얻기\n",
    "plot_1 = model.predict(train_x)\n",
    "plot_2 = train_y\n",
    "\n",
    "# 실제 레이블과 예측값 비교 그래프 그리기\n",
    "plt.scatter(plot_1, plot_2, s=0.1, c='red', label='Predict_X')\n",
    "plt.plot(plot_2, plot_2, color='blue', linewidth=1, label='y')\n",
    "\n",
    "plt.xlabel(\"X\")\n",
    "plt.ylabel(\"y\")\n",
    "plt.title(\"Predict\")\n",
    "plt.legend()\n",
    "plt.show()"
   ]
  },
  {
   "cell_type": "code",
   "execution_count": null,
   "id": "9d285b22",
   "metadata": {},
   "outputs": [],
   "source": [
    "# 훈련 데이터의 예측 결과와 실제 레이블 간의 결정 계수 계산\n",
    "r2 = r2_score(train_y, plot_1)\n",
    "print(f\"결정 계수 (R-squared): {r2:.8f}\")"
   ]
  },
  {
   "cell_type": "code",
   "execution_count": null,
   "id": "7bee7ac4",
   "metadata": {},
   "outputs": [],
   "source": [
    "# SMAPE\n",
    "# print('SMAPE : {}'.format(SMAPE(y_valid, pred)))\n",
    "print('SMAPE : {}'.format(SMAPE(train_y, plot_1)))"
   ]
  },
  {
   "cell_type": "code",
   "execution_count": null,
   "id": "351ca8c3",
   "metadata": {},
   "outputs": [],
   "source": [
    "# from sklearn.metrics import mean_squared_error\n",
    "\n",
    "# # MSE 계산\n",
    "# mse = mean_squared_error(test_y, predictions)\n",
    "# print(f\"평균 제곱 오차 (MSE): {mse:.8f}\")"
   ]
  },
  {
   "cell_type": "code",
   "execution_count": null,
   "id": "6a9909b8",
   "metadata": {},
   "outputs": [],
   "source": [
    "test_x = test_df.drop(columns=['num_date_time', '일시'])\n",
    "test_x.head()"
   ]
  },
  {
   "cell_type": "code",
   "execution_count": null,
   "id": "23c9dec8",
   "metadata": {},
   "outputs": [],
   "source": [
    "train_x.head()"
   ]
  },
  {
   "cell_type": "markdown",
   "id": "08a28c66",
   "metadata": {},
   "source": [
    "## Inference"
   ]
  },
  {
   "cell_type": "code",
   "execution_count": null,
   "id": "4a66354d",
   "metadata": {},
   "outputs": [],
   "source": [
    "# 테스트 데이터로 예측 시작\n",
    "preds = model.predict(test_x)\n",
    "print(preds)"
   ]
  },
  {
   "cell_type": "markdown",
   "id": "4913e2c0",
   "metadata": {},
   "source": [
    "## Submission"
   ]
  },
  {
   "cell_type": "code",
   "execution_count": null,
   "id": "4ef558e6",
   "metadata": {},
   "outputs": [],
   "source": [
    "submission = pd.read_csv('./sample_submission.csv')\n",
    "submission.head()"
   ]
  },
  {
   "cell_type": "code",
   "execution_count": null,
   "id": "dc8ef25c",
   "metadata": {},
   "outputs": [],
   "source": [
    "submission['answer'] = preds\n",
    "submission.head()"
   ]
  },
  {
   "cell_type": "code",
   "execution_count": null,
   "id": "546b0a43",
   "metadata": {},
   "outputs": [],
   "source": [
    "# csv 파일로 저장\n",
    "submission.to_csv('./XG_baseline_submission-final.csv', index=False)"
   ]
  },
  {
   "cell_type": "code",
   "execution_count": null,
   "id": "82c559bf",
   "metadata": {},
   "outputs": [],
   "source": []
  }
 ],
 "metadata": {
  "kernelspec": {
   "display_name": "test01",
   "language": "python",
   "name": "test01"
  },
  "language_info": {
   "codemirror_mode": {
    "name": "ipython",
    "version": 3
   },
   "file_extension": ".py",
   "mimetype": "text/x-python",
   "name": "python",
   "nbconvert_exporter": "python",
   "pygments_lexer": "ipython3",
   "version": "3.10.9"
  }
 },
 "nbformat": 4,
 "nbformat_minor": 5
}
